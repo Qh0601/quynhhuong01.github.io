{
  "nbformat": 4,
  "nbformat_minor": 0,
  "metadata": {
    "colab": {
      "provenance": [],
      "toc_visible": true,
      "include_colab_link": true
    },
    "kernelspec": {
      "name": "python3",
      "display_name": "Python 3"
    },
    "language_info": {
      "name": "python"
    }
  },
  "cells": [
    {
      "cell_type": "markdown",
      "metadata": {
        "id": "view-in-github",
        "colab_type": "text"
      },
      "source": [
        "<a href=\"https://colab.research.google.com/github/Qh0601/quynhhuong01.github.io/blob/main/buoi02_250816/bai_tap_01.ipynb\" target=\"_parent\"><img src=\"https://colab.research.google.com/assets/colab-badge.svg\" alt=\"Open In Colab\"/></a>"
      ]
    },
    {
      "cell_type": "code",
      "execution_count": null,
      "metadata": {
        "colab": {
          "base_uri": "https://localhost:8080/"
        },
        "id": "VhFD9WmCkztl",
        "outputId": "dfcbc254-3bf5-4ffa-bf23-0a52c8404b4d"
      },
      "outputs": [
        {
          "output_type": "stream",
          "name": "stdout",
          "text": [
            "Hello, World!\n"
          ]
        }
      ],
      "source": [
        "print(\"Hello, World!\")"
      ]
    },
    {
      "cell_type": "markdown",
      "source": [
        "# Python Variable"
      ],
      "metadata": {
        "id": "ttayvcrGptJZ"
      }
    },
    {
      "cell_type": "code",
      "source": [
        "# Python variables\n",
        "x = 2\n",
        "price = 2.5\n",
        "word = \"Hello\"\n",
        "\n",
        "word = 'Hello'\n",
        "word = \"Hello\"\n",
        "word = '''Hello'''\n",
        "\n",
        "print(x, price, word)\n",
        "print(f'x = ')"
      ],
      "metadata": {
        "id": "WtudoGVSlQB3"
      },
      "execution_count": null,
      "outputs": []
    },
    {
      "cell_type": "code",
      "source": [
        "x = 2\n",
        "y = x + 1"
      ],
      "metadata": {
        "id": "jyhWuhrkqUls"
      },
      "execution_count": null,
      "outputs": []
    },
    {
      "cell_type": "code",
      "source": [
        "# comment\n",
        "from platform import python_version\n",
        "print(\"Python Version:\", python_version())"
      ],
      "metadata": {
        "id": "4IrC_wF2qNtX"
      },
      "execution_count": null,
      "outputs": []
    },
    {
      "cell_type": "code",
      "source": [
        "Python Version: 3.10.12"
      ],
      "metadata": {
        "id": "Tg8iqEQdrGb-"
      },
      "execution_count": null,
      "outputs": []
    },
    {
      "cell_type": "markdown",
      "source": [
        "# Python Data types"
      ],
      "metadata": {
        "id": "WyC8pQxoqslg"
      }
    },
    {
      "cell_type": "code",
      "source": [
        "x = \"Hello World\" #str\n",
        "x = 2             #int\n",
        "x = 2.5           #float\n",
        "x = 7j            #complex"
      ],
      "metadata": {
        "id": "ecOogQvYrKDO"
      },
      "execution_count": null,
      "outputs": []
    },
    {
      "cell_type": "code",
      "source": [
        "x = [\"apple\", \"banana\", \"cherry\"]\n",
        "x.append ('hello')\n",
        "print(x, type(x), x[1:3])\n",
        "\n",
        "x = [\"apple\", \"banana\", \"cherry\"] #imutable\n",
        "# x.append ('hello')\n",
        "x = [\"apple\", \"banana\", \"cherry\", \"hello\"]\n",
        "print(x, type(x), x[1:3])\n",
        "\n",
        "x= {\"name\": \"age\", \"tone\": 20} #dictionary\n",
        "print(x, type(x))"
      ],
      "metadata": {
        "id": "7VD357mUrTmr"
      },
      "execution_count": null,
      "outputs": []
    }
  ]
}